{
 "cells": [
  {
   "cell_type": "code",
   "execution_count": 39,
   "metadata": {},
   "outputs": [
    {
     "name": "stdout",
     "output_type": "stream",
     "text": [
      "rho_1 0.2\n",
      "rho_2 0.25742\n",
      "rho -0.0104261\n",
      "sigma_1 0\n",
      "sigma_2 0.0904534\n",
      "sigma 0.0904534\n",
      "sigma_squared 0.00818182\n",
      "c 1\n",
      "p 1\n",
      "anx_1 0.2\n",
      "anx_2 -0.2\n",
      "anx_3 -0.0104261\n"
     ]
    }
   ],
   "source": [
    "import gurobipy as gp\n",
    "\n",
    "from gurobipy import GRB\n",
    "from scipy.stats import norm\n",
    "\n",
    "EPS = 10**-4\n",
    "\n",
    "model = gp.Model()\n",
    "model.setParam(\"OutputFlag\", 0)\n",
    "model.setParam(\"NonConvex\", 2)\n",
    "\n",
    "rho_1 = model.addVar(name='rho_1', lb = -10**4, ub = 10**4, vtype=GRB.CONTINUOUS)\n",
    "rho_2 = model.addVar(name='rho_2', lb = -10**4, ub = 10**4, vtype=GRB.CONTINUOUS)\n",
    "rho = model.addVar(name='rho', lb = -10**4, ub = 10**4, vtype=GRB.CONTINUOUS)\n",
    "sigma_1 = model.addVar(name='sigma_1', ub = 1, vtype=GRB.CONTINUOUS)\n",
    "sigma_2 = model.addVar(name='sigma_2', ub = 1, vtype=GRB.CONTINUOUS)\n",
    "sigma = model.addVar(name='sigma', ub = 1, vtype=GRB.CONTINUOUS)\n",
    "sigma_squared = model.addVar(name='sigma_squared', ub = 10**4, vtype=GRB.CONTINUOUS)\n",
    "c = model.addVar(name='c', lb = 1, ub = 3, vtype=GRB.CONTINUOUS)\n",
    "p = model.addVar(name='p', lb = 0.95, ub = 1, vtype=GRB.CONTINUOUS)\n",
    "\n",
    "anx_1 = model.addVar(name='anx_1', lb = -10**4, ub = 10**4, vtype=GRB.CONTINUOUS)\n",
    "anx_2 = model.addVar(name='anx_2', lb = -10**4, ub = 10**4, vtype=GRB.CONTINUOUS)\n",
    "anx_3 = model.addVar(name='anx_3', lb = -10**4, ub = 10**4, vtype=GRB.CONTINUOUS)\n",
    "model.update()\n",
    "\n",
    "model.addConstr(rho_1 == 0.2 - norm.ppf(0.95)*sigma_1)\n",
    "model.addConstr(rho_2 == c - (norm.ppf(0.9)+(norm.ppf(1-10**-16)-norm.ppf(0.9))/(1-10**-16-0.9)*(p-0.9))*sigma_2)\n",
    "model.addConstr(sigma_squared == sigma_1*sigma_1 + sigma_2*sigma_2)\n",
    "model.addGenConstrPow(sigma_squared, sigma, 0.5)\n",
    "model.addConstr(rho == 0.2 - norm.ppf(0.99)*sigma)\n",
    "model.addConstr(anx_1 == gp.min_(rho_1, rho_2))\n",
    "model.addConstr(anx_2 == -anx_1)\n",
    "model.addConstr(anx_3 == gp.max_(anx_2, rho))\n",
    "model.addConstr(anx_3 <= -EPS)\n",
    "# model.addConstr(anx_3 >= 0)\n",
    "model.update()\n",
    "\n",
    "model.write('MILP.lp')\n",
    "model.optimize()\n",
    "\n",
    "if model.getAttr(\"Status\") == 2:\n",
    "    for v in model.getVars():\n",
    "        print('%s %g' % (v.varName, v.x))"
   ]
  }
 ],
 "metadata": {
  "interpreter": {
   "hash": "31f2aee4e71d21fbe5cf8b01ff0e069b9275f58929596ceb00d14d90e3e16cd6"
  },
  "kernelspec": {
   "display_name": "Python 3.8.2 64-bit",
   "name": "python3"
  },
  "language_info": {
   "codemirror_mode": {
    "name": "ipython",
    "version": 3
   },
   "file_extension": ".py",
   "mimetype": "text/x-python",
   "name": "python",
   "nbconvert_exporter": "python",
   "pygments_lexer": "ipython3",
   "version": "3.8.2"
  },
  "orig_nbformat": 4
 },
 "nbformat": 4,
 "nbformat_minor": 2
}
